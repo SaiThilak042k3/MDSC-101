{
 "cells": [
  {
   "cell_type": "code",
   "execution_count": 35,
   "metadata": {},
   "outputs": [],
   "source": [
    "import numpy as np\n",
    "from scipy.linalg import svd"
   ]
  },
  {
   "cell_type": "code",
   "execution_count": 26,
   "metadata": {},
   "outputs": [
    {
     "name": "stdout",
     "output_type": "stream",
     "text": [
      "Matrix A:\n",
      "[[ 3  2  2]\n",
      " [ 2  3 -2]]\n"
     ]
    }
   ],
   "source": [
    "# Create A matrix\n",
    "A = np.array([[3, 2, 2],\n",
    "              [2, 3, -2]])\n",
    "\n",
    "#Matrix A\n",
    "print(\"Matrix A:\")\n",
    "print(A)\n"
   ]
  },
  {
   "cell_type": "code",
   "execution_count": 27,
   "metadata": {},
   "outputs": [],
   "source": [
    "# # Find the eigenvalues and eigenvectors\n",
    "# eigenvalues, eigenvectors = np.linalg.eig(A)\n",
    "\n",
    "# # Eigenvalues\n",
    "# print(\"Eigenvalues:\")\n",
    "# print(eigenvalues)\n",
    "\n",
    "# # Eigenvectors\n",
    "# print(\"Eigenvectors:\")\n",
    "# print(eigenvectors)"
   ]
  },
  {
   "cell_type": "code",
   "execution_count": 28,
   "metadata": {},
   "outputs": [],
   "source": [
    "# Perform matrix Transpose\n",
    "A_transpose  = A.T\n",
    "\n",
    "A_AT = A @ A_transpose\n",
    "AT_A = A_transpose @ A"
   ]
  },
  {
   "cell_type": "code",
   "execution_count": 29,
   "metadata": {},
   "outputs": [],
   "source": [
    "# Find the eigenvalues and eigenvectors\n",
    "eigenvalues1, eigenvectors1 = np.linalg.eig(A_AT)\n",
    "eigenvalues2, eigenvectors2 = np.linalg.eig(AT_A)\n"
   ]
  },
  {
   "cell_type": "code",
   "execution_count": 30,
   "metadata": {},
   "outputs": [
    {
     "name": "stdout",
     "output_type": "stream",
     "text": [
      "Eigenvalues of A_AT :\n",
      "[25.  9.]\n",
      "Eigenvectors1 of A_AT :\n",
      "[[ 0.70710678 -0.70710678]\n",
      " [ 0.70710678  0.70710678]]\n"
     ]
    }
   ],
   "source": [
    "# Eigenvalues\n",
    "print(\"Eigenvalues of A_AT :\")\n",
    "print(eigenvalues1)\n",
    "\n",
    "# Eigenvectors\n",
    "print(\"Eigenvectors1 of A_AT :\")\n",
    "print(eigenvectors1)\n",
    "\n"
   ]
  },
  {
   "cell_type": "code",
   "execution_count": 31,
   "metadata": {},
   "outputs": [
    {
     "name": "stdout",
     "output_type": "stream",
     "text": [
      "Eigenvalues of AT_A :\n",
      "[2.5000000e+01 5.0324328e-15 9.0000000e+00]\n",
      "Eigenvectors1 of AT_A :\n",
      "[[-7.07106781e-01 -6.66666667e-01  2.35702260e-01]\n",
      " [-7.07106781e-01  6.66666667e-01 -2.35702260e-01]\n",
      " [-4.59701721e-17  3.33333333e-01  9.42809042e-01]]\n"
     ]
    }
   ],
   "source": [
    "# Eigenvalues\n",
    "print(\"Eigenvalues of AT_A :\")\n",
    "print(eigenvalues2)\n",
    "\n",
    "# Eigenvectors\n",
    "print(\"Eigenvectors1 of AT_A :\")\n",
    "print(eigenvectors2)"
   ]
  },
  {
   "cell_type": "code",
   "execution_count": 34,
   "metadata": {},
   "outputs": [
    {
     "name": "stdout",
     "output_type": "stream",
     "text": [
      "[[12.5  0. ]\n",
      " [ 0.   4.5]]\n"
     ]
    }
   ],
   "source": [
    "if len(eigenvalues1) <= len(eigenvalues2):\n",
    "    matrix = []\n",
    "    for i in range(len(eigenvalues1)):\n",
    "        row = []\n",
    "        for j in range(len(eigenvalues1)):\n",
    "            if(i == j):\n",
    "                element = (eigenvalues1[i])**1/2\n",
    "            else:\n",
    "                element = 0\n",
    "            row.append(element)\n",
    "        matrix.append(row)\n",
    "\n",
    "# Convert the list of lists into a NumPy array\n",
    "matrix_array = np.array(matrix)\n",
    "\n",
    "print(matrix_array)"
   ]
  },
  {
   "cell_type": "code",
   "execution_count": 36,
   "metadata": {},
   "outputs": [
    {
     "name": "stdout",
     "output_type": "stream",
     "text": [
      "U:  [[-0.70710678 -0.70710678]\n",
      " [-0.70710678  0.70710678]]\n",
      "Singular array [5. 3.]\n",
      "V^{T} [[-7.07106781e-01 -7.07106781e-01 -5.55111512e-17]\n",
      " [-2.35702260e-01  2.35702260e-01 -9.42809042e-01]\n",
      " [-6.66666667e-01  6.66666667e-01  3.33333333e-01]]\n"
     ]
    }
   ],
   "source": [
    "# perform SVD\n",
    "U, singular, V_transpose = svd(A)\n",
    "# print different components\n",
    "print(\"U: \", U)\n",
    "print(\"Singular array\", singular)\n",
    "print(\"V^{T}\", V_transpose)"
   ]
  }
 ],
 "metadata": {
  "kernelspec": {
   "display_name": "Python 3",
   "language": "python",
   "name": "python3"
  },
  "language_info": {
   "codemirror_mode": {
    "name": "ipython",
    "version": 3
   },
   "file_extension": ".py",
   "mimetype": "text/x-python",
   "name": "python",
   "nbconvert_exporter": "python",
   "pygments_lexer": "ipython3",
   "version": "3.11.1"
  },
  "orig_nbformat": 4
 },
 "nbformat": 4,
 "nbformat_minor": 2
}
